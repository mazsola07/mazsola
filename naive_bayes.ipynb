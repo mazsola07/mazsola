{
 "cells": [
  {
   "cell_type": "code",
   "execution_count": 3,
   "id": "125d8169",
   "metadata": {},
   "outputs": [],
   "source": [
    "import numpy as np\n",
    "import pandas as pd\n",
    "from sklearn.datasets import fetch_20newsgroups\n",
    "from sklearn.feature_extraction.text import CountVectorizer"
   ]
  },
  {
   "cell_type": "code",
   "execution_count": 7,
   "id": "4f795136",
   "metadata": {},
   "outputs": [],
   "source": [
    "class NaiveBayes:\n",
    "    \n",
    "    def fit(self, X, y):\n",
    "        n_samples, n_features = X.shape\n",
    "        # _ - private attribute or method of a class (accessed only within the class)\n",
    "        self._classes = np.unique(y)\n",
    "        n_classes = len(self._classes)\n",
    "        self._psis = np.zeros((n_classes, n_features), dtype=float)\n",
    "        self._phis = np.zeros(n_classes, dtype=float)\n",
    "        for k in range(n_classes):\n",
    "            X_k = X[y == k]\n",
    "            self._psis[k] = X_k.mean(axis=0)\n",
    "            self._phis[k] = X_k.shape[0] / float(n_samples)\n",
    "        self._psis = self._psis.clip(1e-14, 1-1e-14)\n",
    "        \n",
    "    def predict(self, X):\n",
    "        y_pred = [self._predict(x) for x in X]\n",
    "        return np.array(y_pred)\n",
    "    \n",
    "    def _predict(self, x):\n",
    "        posteriors = []\n",
    "        for k in range(len(self._classes)):\n",
    "            logpy = np.log(self._phis[k])\n",
    "            logpxy = x * np.log(self._psis[k]) + (1-x) * np.log(1 - self._psis[k])\n",
    "            logpyx = np.sum(logpxy) + logpy\n",
    "            posteriors.append(logpyx)\n",
    "        return np.argmax(posteriors)"
   ]
  },
  {
   "cell_type": "code",
   "execution_count": 23,
   "id": "b42c0458",
   "metadata": {},
   "outputs": [],
   "source": [
    "categories = ['alt.atheism', 'soc.religion.christian', 'comp.graphics', 'sci.med']\n",
    "twenty_train = fetch_20newsgroups(subset='train', categories=categories, shuffle=True, \n",
    "                                  random_state=42)\n",
    "count_vect = CountVectorizer(binary=True, max_features=10000)\n",
    "X_train = count_vect.fit_transform(twenty_train.data).toarray()\n",
    "y_train = twenty_train.target"
   ]
  },
  {
   "cell_type": "code",
   "execution_count": 24,
   "id": "78f49619",
   "metadata": {},
   "outputs": [],
   "source": [
    "nb = NaiveBayes()\n",
    "nb.fit(X_train, y_train)"
   ]
  },
  {
   "cell_type": "code",
   "execution_count": 25,
   "id": "82ce7ba0",
   "metadata": {},
   "outputs": [
    {
     "data": {
      "text/plain": [
       "0.9920248116969429"
      ]
     },
     "execution_count": 25,
     "metadata": {},
     "output_type": "execute_result"
    }
   ],
   "source": [
    "y_pred = nb.predict(X_train)\n",
    "(y_pred == y_train).mean()"
   ]
  },
  {
   "cell_type": "code",
   "execution_count": 26,
   "id": "3c8e876b",
   "metadata": {},
   "outputs": [],
   "source": [
    "twenty_test = fetch_20newsgroups(subset='test', categories=categories, shuffle=True,\n",
    "                                random_state=42)\n",
    "X_test = count_vect.transform(twenty_test.data).toarray()\n",
    "y_test = twenty_test.target"
   ]
  },
  {
   "cell_type": "code",
   "execution_count": 28,
   "id": "dc3df85c",
   "metadata": {},
   "outputs": [
    {
     "data": {
      "text/plain": [
       "0.9161118508655126"
      ]
     },
     "execution_count": 28,
     "metadata": {},
     "output_type": "execute_result"
    }
   ],
   "source": [
    "y_pred_test = nb.predict(X_test)\n",
    "(y_pred_test == y_test).mean()"
   ]
  }
 ],
 "metadata": {
  "kernelspec": {
   "display_name": "Python 3 (ipykernel)",
   "language": "python",
   "name": "python3"
  },
  "language_info": {
   "codemirror_mode": {
    "name": "ipython",
    "version": 3
   },
   "file_extension": ".py",
   "mimetype": "text/x-python",
   "name": "python",
   "nbconvert_exporter": "python",
   "pygments_lexer": "ipython3",
   "version": "3.11.5"
  }
 },
 "nbformat": 4,
 "nbformat_minor": 5
}
